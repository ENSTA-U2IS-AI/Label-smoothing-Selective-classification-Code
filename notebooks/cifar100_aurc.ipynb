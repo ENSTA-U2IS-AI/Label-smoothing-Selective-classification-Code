{
 "cells": [
  {
   "cell_type": "markdown",
   "metadata": {},
   "source": [
    "# CIFAR-100 DenseNet plots\n",
    "\n",
    "Update the following variables with values corresponding to your own experiments:"
   ]
  },
  {
   "cell_type": "code",
   "execution_count": null,
   "metadata": {},
   "outputs": [],
   "source": [
    "# Paths\n",
    "MODEL_CE_PATH = \"../experiments/classification/cifar100/logs/densenet/version_0/checkpoints/last.ckpt\"\n",
    "MODEL_LS_PATH = \"../experiments/classification/cifar100/logs/densenet_ls/version_0/checkpoints/last.ckpt\"\n",
    "\n",
    "# Choose your device\n",
    "\n",
    "DEVICE = \"cuda:0\"  # or \"cpu\"\n",
    "\n",
    "# Whether to save the image or not\n",
    "\n",
    "SAVE_IMG = False"
   ]
  },
  {
   "cell_type": "markdown",
   "metadata": {},
   "source": [
    "Prepare the datamodule and disable gradients:"
   ]
  },
  {
   "cell_type": "code",
   "execution_count": null,
   "metadata": {},
   "outputs": [],
   "source": [
    "import torch\n",
    "from torch_uncertainty.datamodules import CIFAR100DataModule\n",
    "\n",
    "# Disable gradients globally\n",
    "torch.set_grad_enabled(False)\n",
    "\n",
    "dm = CIFAR100DataModule(\"./data\", batch_size=128)\n",
    "dm.prepare_data()\n",
    "dm.setup(\"test\")"
   ]
  },
  {
   "cell_type": "markdown",
   "metadata": {},
   "source": [
    "Instantiate the models in memory"
   ]
  },
  {
   "cell_type": "code",
   "execution_count": null,
   "metadata": {},
   "outputs": [],
   "source": [
    "from torch_uncertainty_ls.densenet import DenseNetBC\n",
    "\n",
    "model = DenseNetBC(num_classes=100)\n",
    "sd = torch.load(MODEL_CE_PATH, weights_only=True)[\"state_dict\"]\n",
    "sd = {k.replace(\"model.\", \"\"): v for k, v in sd.items()}\n",
    "model.load_state_dict(sd)\n",
    "model = model.to(DEVICE)\n",
    "model.eval()\n",
    "\n",
    "model_ls = DenseNetBC(num_classes=100)\n",
    "sd = torch.load(MODEL_LS_PATH, weights_only=True)[\"state_dict\"]\n",
    "sd = {k.replace(\"model.\", \"\"): v for k, v in sd.items()}\n",
    "model_ls.load_state_dict(sd)\n",
    "model_ls = model_ls.to(DEVICE)\n",
    "model_ls = model_ls.eval();"
   ]
  },
  {
   "cell_type": "markdown",
   "metadata": {},
   "source": [
    "Compute the logits with the CE-based and LS-based models."
   ]
  },
  {
   "cell_type": "code",
   "execution_count": null,
   "metadata": {},
   "outputs": [],
   "source": [
    "scores = []\n",
    "scores_ls = []\n",
    "correct_samples = []\n",
    "correct_samples_ls = []\n",
    "\n",
    "for batch in dm.test_dataloader()[0]:\n",
    "    x, y = batch\n",
    "    x = x.to(DEVICE)\n",
    "    y_pred = model(x).softmax(dim=-1).cpu()\n",
    "    y_pred_ls = model_ls(x).softmax(dim=-1).cpu()\n",
    "    scores.append(y_pred)\n",
    "    scores_ls.append(y_pred_ls)\n",
    "    correct_samples.append(y_pred.argmax(-1) == y)\n",
    "    correct_samples_ls.append(y_pred_ls.argmax(-1) == y)\n",
    "\n",
    "scores = torch.cat(scores)\n",
    "scores_ls = torch.cat(scores_ls)\n",
    "correct_samples = torch.cat(correct_samples)\n",
    "correct_samples_ls = torch.cat(correct_samples_ls)"
   ]
  },
  {
   "cell_type": "code",
   "execution_count": null,
   "metadata": {},
   "outputs": [],
   "source": [
    "from torch_uncertainty_ls.utils import risk_coverage_curve\n",
    "\n",
    "ce_risk, ce_cov, thresholds = risk_coverage_curve(correct_samples, scores.max(1).values)\n",
    "ls_risk, ls_cov, thresholds_ls = risk_coverage_curve(correct_samples_ls, scores_ls.max(1).values)"
   ]
  },
  {
   "cell_type": "markdown",
   "metadata": {},
   "source": [
    "Create the plots"
   ]
  },
  {
   "cell_type": "code",
   "execution_count": null,
   "metadata": {},
   "outputs": [],
   "source": [
    "import matplotlib.pyplot as plt\n",
    "import seaborn\n",
    "\n",
    "# set the style\n",
    "seaborn.set_theme()\n",
    "\n",
    "# Compute and show the risk-coverage curves\n",
    "fig, ax = plt.subplots(1, 1, figsize=(6, 4))\n",
    "ax.plot(\n",
    "    ce_cov * 100,\n",
    "    ce_risk * 100,\n",
    "    label=f\"CE ({ce_risk[-1]*100:.1f}, {torch.trapz(ce_risk,ce_cov).item()*100:.2f})\",\n",
    "    alpha=0.6,\n",
    "    color=\"black\",\n",
    ")\n",
    "ax.plot(\n",
    "    ls_cov * 100,\n",
    "    ls_risk * 100,\n",
    "    label=f\"LS ({ls_risk[-1]*100:.1f}, {torch.trapz(ls_risk, ls_cov).item()*100:.2f})\",\n",
    "    alpha=0.6,\n",
    "    linestyle=\"dotted\",\n",
    ")\n",
    "ax.set_xlabel(\"%coverage\")\n",
    "ax.set_ylabel(\"%risk$\\leftarrow$\")\n",
    "ax.legend(title=\"DenseNet (%error$\\downarrow$, %AURC$\\downarrow$)\\nCIFAR-100\", loc=\"upper left\")\n",
    "ax.grid(visible=True, which=\"both\")\n",
    "ax.set_xlim(0, 100)\n",
    "ax.set_ylim(0, 25)\n",
    "ax.minorticks_on()\n",
    "fig.tight_layout()\n",
    "\n",
    "if SAVE_IMG:\n",
    "    plt.savefig(\"cifar100.pdf\", dpi=300)\n",
    "\n",
    "plt.show();"
   ]
  }
 ],
 "metadata": {
  "kernelspec": {
   "display_name": "tu",
   "language": "python",
   "name": "python3"
  },
  "language_info": {
   "codemirror_mode": {
    "name": "ipython",
    "version": 3
   },
   "file_extension": ".py",
   "mimetype": "text/x-python",
   "name": "python",
   "nbconvert_exporter": "python",
   "pygments_lexer": "ipython3",
   "version": "3.10.13"
  }
 },
 "nbformat": 4,
 "nbformat_minor": 2
}
